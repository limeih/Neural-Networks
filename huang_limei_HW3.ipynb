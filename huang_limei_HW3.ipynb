{
  "nbformat": 4,
  "nbformat_minor": 0,
  "metadata": {
    "accelerator": "GPU",
    "colab": {
      "name": "huang_limei_HW3.ipynb",
      "provenance": [],
      "collapsed_sections": []
    },
    "kernelspec": {
      "display_name": "Python 3",
      "language": "python",
      "name": "python3"
    },
    "language_info": {
      "codemirror_mode": {
        "name": "ipython",
        "version": 3
      },
      "file_extension": ".py",
      "mimetype": "text/x-python",
      "name": "python",
      "nbconvert_exporter": "python",
      "pygments_lexer": "ipython3",
      "version": "3.7.3"
    }
  },
  "cells": [
    {
      "cell_type": "markdown",
      "metadata": {
        "colab_type": "text",
        "id": "fDEQjuu_iJ3g"
      },
      "source": [
        "# HW 03 - Create a word2vec model"
      ]
    },
    {
      "cell_type": "markdown",
      "metadata": {
        "colab_type": "text",
        "id": "bRrPQL2diJ3j"
      },
      "source": [
        "<font color=blue size=4>\n",
        "Before you submit this assignment, please carefully read these submission instructions. You must name this .ipynb file:\n",
        "<br><br>\n",
        "yourlastname_yourfirstname_HW3.ipynb\n",
        "<br><br>\n",
        "You must turn in this assignment by uploading the \n",
        ".ipynb file to the assignment on questrom tools. You will also need to print out a hard copy of this notebook (File->Print from colab) with the output from running all the code cells, and hand it in on the class following the due date. Do not email me the file.\n",
        "<br><br>\n",
        "Points will be deducted for improper submission!\n",
        "</font>\n",
        "\n",
        "For this assignment, we will use Pytorch to create a word2vec model that infers numerical vectors for words that capture their meaning. Word2vec was first introduced in 2013 by Mikolov et al. at Google. Their paper can be found [here](https://arxiv.org/pdf/1301.3781.pdf), though you do not need to read and understand it in order to implement the model. It is a very popular machine learning model that has been implemented to capture the meaning of text for many real world cases. \n",
        "\n",
        "This [blog post](https://blog.acolyer.org/2016/04/21/the-amazing-power-of-word-vectors/) is a great overview of word2vec. Please read it carefully before you create the word2vec model for this assignment. Specifically, you will build a \"Continuous Bag-of-Words Model (CBOW)\" word2vec model. CBOW predicts a focal (target) word from its context (the words surround it). The following Youtube videos also explain the concept of the CBOW model.\n",
        "- https://www.youtube.com/watch?v=UqRCEmrv1gQ\n",
        "- https://www.youtube.com/watch?v=gQddtTdmG_8 \n",
        "\n",
        "\n",
        "<img src=\"https://i2.wp.com/www.stokastik.in/wp-content/uploads/2017/04/Screen-Shot-2017-05-16-at-8.48.52-PM.png?w=596\">\n",
        "\n",
        "[CBOW structure from http://www.stokastik.in/understanding-word-vectors-and-word2vec/]"
      ]
    },
    {
      "cell_type": "markdown",
      "metadata": {
        "colab_type": "text",
        "id": "rayw7XfBiJ3u"
      },
      "source": [
        "Your task is to create a CBOW neural network model class called `CBOW`. `CBOW` has the structure shown above and the following properties:\n",
        "\n",
        "- `vocab_size` - Size of vocabulary($V$). Note that vocabulary is a set of unique words in a corpus (a bunch of text documents).\n",
        "- `embed_dim` - Dimension of the embedding vector\n",
        "- `window_size` - Size of window. If a focal word is at position $t$, then the CBOW model uses embedding vectors of words between ($t$-window_size) and ($t$+window_size) to predict the focal word\n",
        "- `hidden_dim` - Dimension of the hidden layer ($N$)\n",
        "\n",
        "`CBOW` consists of three layers:\n",
        "\n",
        "- `embedding` - An embedding layer that is initialized with `torch.nn.Embedding`\n",
        "- `fc1` - A linear transformation that connects the embedding layer to the hidden layer. `torch.nn.functional.relu` activation should be applied to the output of `fc1`.\n",
        "- `fc2` - A linear transformation that connects the activation of `fc1` to a tensor of length `vocab_size`. \n",
        "\n",
        "The training data (i.e., the features `X`, the labels `y`) that we will use to train the `CBOW` model will be:\n",
        "- `X` will be a tensor of length (2 * `window_size`) containing the indices of all words in the window before and after the focal word. \n",
        "- `y`, (the label that our model is trying to predict) should be a list containing the index of the focal word.\n",
        "\n",
        "Note that a single review in our data will produce multiple items of training data. For example, suppose a single review is:\n",
        "\n",
        " \"the food was not good at all\"\n",
        " \n",
        " If our `window_size` = 2, then this would generate the following (context, focal_word) training data tuples:\n",
        "\n",
        "```python\n",
        "(['the','food','not','good'], ['was']) # 'was' is the focal word\n",
        "(['food','was','good','at'], ['not']) # 'not' is the focal word\n",
        "(['was','not','at','all'],['good']) # 'good' is the focal word\n",
        "```\n",
        "\n",
        "However, we can't directly use these tuples to train our model. First we have to replace each word with a unique integer (its index) and then convert these to pytorch tensors. Note that, we will be using a special embedding layer (`torch.nn.Embedding`) which will convert these indexes to the one-hot vectors that are described in the videos.\n",
        "\n",
        "To get tensors from the original data, you will need to:\n",
        "\n",
        "- Create a list (or `set`) of all unique words in the cleaned text, called `vocab`.\n",
        "- Create a dictionary called `word_to_index` where the key is a word and the value is the index of a word (a unique number for each word). You will have to figure out how to create this dictionary from the cleaned dataset.\n",
        "- Write a function `make_cbow_data` that accepts a single review from cleaned_text as an input and outputs a **list of tuples** where:\n",
        " -  the first part of the tuple contains a tensor of the indices of words in the window before and after each focal word\n",
        " - the second part of the tuple is a tensor containing the index of the focal word.\n",
        " - The dtype of both tensors in the tuple should be `torch.long`.\n",
        " - You will have to figure out how to create multiple tuples of tensors from a single review (an item from `cleaned_text`) using loops \n"
      ]
    },
    {
      "cell_type": "markdown",
      "metadata": {
        "colab_type": "text",
        "id": "P6uzFDXFiJ3v"
      },
      "source": [
        "We will use restaurant customer reviews data for this assignment.\n",
        "\n",
        "**Do not change the code block below**. Below is a function that cleans up the text of a review and returns a list of all the words in the review.\n",
        "\n",
        "You will use `cleaned_text`, which is defined below, to create a training dataset for your `CBOW` model."
      ]
    },
    {
      "cell_type": "code",
      "metadata": {
        "colab_type": "code",
        "id": "SYTmVZStiJ3w",
        "colab": {}
      },
      "source": [
        "# DO NOT CHANGE THIS CODEBLOCK\n",
        "import pandas as pd\n",
        "import string\n",
        "\n",
        "def clean_text(text):    \n",
        "    x = text.translate(str.maketrans('', '', string.punctuation)) # remove punctuation\n",
        "    x = x.lower().split() # lower case and split by whitespace to differentiate words\n",
        "    return x\n",
        "\n",
        "example_text = pd.read_csv('https://raw.githubusercontent.com/dylanwalker/BA865/master/datasets/hw3.csv')\n",
        "cleaned_text = example_text.Review[:100].apply(clean_text)"
      ],
      "execution_count": 0,
      "outputs": []
    },
    {
      "cell_type": "code",
      "metadata": {
        "id": "xIXEOEhiNU-5",
        "colab_type": "code",
        "colab": {
          "base_uri": "https://localhost:8080/",
          "height": 218
        },
        "outputId": "cb75fa64-1769-42d0-cf4a-0b4db2a6ac1f"
      },
      "source": [
        "# print(cleaned_text)"
      ],
      "execution_count": 6,
      "outputs": [
        {
          "output_type": "stream",
          "text": [
            "0                             [wow, loved, this, place]\n",
            "1                                [crust, is, not, good]\n",
            "2     [not, tasty, and, the, texture, was, just, nasty]\n",
            "3     [stopped, by, during, the, late, may, bank, ho...\n",
            "4     [the, selection, on, the, menu, was, great, an...\n",
            "                            ...                        \n",
            "95                             [well, never, go, again]\n",
            "96                              [will, be, back, again]\n",
            "97                             [food, arrived, quickly]\n",
            "98                                 [it, was, not, good]\n",
            "99    [on, the, up, side, their, cafe, serves, reall...\n",
            "Name: Review, Length: 100, dtype: object\n"
          ],
          "name": "stdout"
        }
      ]
    },
    {
      "cell_type": "code",
      "metadata": {
        "id": "MZVonADFSPYV",
        "colab_type": "code",
        "colab": {
          "base_uri": "https://localhost:8080/",
          "height": 269
        },
        "outputId": "fadff181-5f7e-41d2-d1ca-3428e41922d0"
      },
      "source": [
        "# tem = cleaned_text.iloc[:3].explode().unique().tolist()\n",
        "# tem.index(\"loved\")\n",
        "# index_tem = {i:tem.index(i) for i in tem}\n",
        "# index_tem\n",
        "# word_to_index = {word: i for i, word in enumerate(tem)}\n",
        "# word_to_index"
      ],
      "execution_count": 31,
      "outputs": [
        {
          "output_type": "execute_result",
          "data": {
            "text/plain": [
              "{'and': 9,\n",
              " 'crust': 4,\n",
              " 'good': 7,\n",
              " 'is': 5,\n",
              " 'just': 13,\n",
              " 'loved': 1,\n",
              " 'nasty': 14,\n",
              " 'not': 6,\n",
              " 'place': 3,\n",
              " 'tasty': 8,\n",
              " 'texture': 11,\n",
              " 'the': 10,\n",
              " 'this': 2,\n",
              " 'was': 12,\n",
              " 'wow': 0}"
            ]
          },
          "metadata": {
            "tags": []
          },
          "execution_count": 31
        }
      ]
    },
    {
      "cell_type": "markdown",
      "metadata": {
        "colab_type": "text",
        "id": "HEl72ZkpTaQ-"
      },
      "source": [
        "## Create a CBOW Class"
      ]
    },
    {
      "cell_type": "markdown",
      "metadata": {
        "id": "WpUT3gC6P3Dh",
        "colab_type": "text"
      },
      "source": [
        "The first step is to create `vocab` and `word_to_index` according to the instructions above."
      ]
    },
    {
      "cell_type": "code",
      "metadata": {
        "colab_type": "code",
        "id": "4QQycg3vFhf8",
        "colab": {}
      },
      "source": [
        "#Create your vocab here\n",
        "vocab = cleaned_text.explode().unique().tolist()\n",
        "#Create your word_to_index dictionary here\n",
        "word_to_index = {word: vocab.index(word) for word in vocab}"
      ],
      "execution_count": 0,
      "outputs": []
    },
    {
      "cell_type": "markdown",
      "metadata": {
        "id": "4HrIIKHqP_OM",
        "colab_type": "text"
      },
      "source": [
        "Now define your `make_cbow_data()` function. It should take `text` (text of a single review) as an argument, and `window_size` (the number of words to the left or right of the focal word) as an argument. It may also take other arguments, depending on how you define it. It should return a list of tuples as described above."
      ]
    },
    {
      "cell_type": "code",
      "metadata": {
        "id": "wVScRx78hQQh",
        "colab_type": "code",
        "colab": {}
      },
      "source": [
        "# Define your make_cbow_data function here (it should accept arguments: text, window_size  -- and possibly other arguments depending on how you define it)\n",
        "import torch\n",
        "def make_cbow_data(review, window_size):\n",
        "  tup_list = []\n",
        "  for i in range(window_size, len(review) - window_size):\n",
        "    foc = torch.tensor([word_to_index[review[i]]], dtype = torch.long)\n",
        "    win_words = review[i-2:i] + review[i+1:i+3]\n",
        "    win_list = torch.tensor([word_to_index[word] for word in win_words], dtype = torch.long)\n",
        "    tem = (win_list, foc)\n",
        "    tup_list.append(tem)\n",
        "  return tup_list\n"
      ],
      "execution_count": 0,
      "outputs": []
    },
    {
      "cell_type": "code",
      "metadata": {
        "id": "2_Qs0eDuyFUU",
        "colab_type": "code",
        "colab": {
          "base_uri": "https://localhost:8080/",
          "height": 50
        },
        "outputId": "1c2858a7-50c7-409a-925a-87a92ec97aaa"
      },
      "source": [
        "# make_cbow_data([\"not\", \"tasty\", \"and\", \"the\", \"texture\", \"was\", \"just\", \"nasty\"], 3)"
      ],
      "execution_count": 129,
      "outputs": [
        {
          "output_type": "execute_result",
          "data": {
            "text/plain": [
              "[(tensor([ 8,  9, 11, 12]), tensor([10])),\n",
              " (tensor([ 9, 10, 12, 13]), tensor([11]))]"
            ]
          },
          "metadata": {
            "tags": []
          },
          "execution_count": 129
        }
      ]
    },
    {
      "cell_type": "code",
      "metadata": {
        "id": "4J09a8XTzE3L",
        "colab_type": "code",
        "colab": {
          "base_uri": "https://localhost:8080/",
          "height": 50
        },
        "outputId": "3bb8f8f4-0f0b-4cb6-98be-970194197e59"
      },
      "source": [
        "# make_cbow_data(\"not tasty and the texture was just nasty\", 3)"
      ],
      "execution_count": 125,
      "outputs": [
        {
          "output_type": "execute_result",
          "data": {
            "text/plain": [
              "[(tensor([ 8,  9, 11, 12]), tensor([10])),\n",
              " (tensor([ 9, 10, 12, 13]), tensor([11]))]"
            ]
          },
          "metadata": {
            "tags": []
          },
          "execution_count": 125
        }
      ]
    },
    {
      "cell_type": "markdown",
      "metadata": {
        "id": "_6kWcdS4QZzM",
        "colab_type": "text"
      },
      "source": [
        "Now define your CBOW model class."
      ]
    },
    {
      "cell_type": "code",
      "metadata": {
        "id": "MUjiOY8t5P-U",
        "colab_type": "code",
        "colab": {}
      },
      "source": [
        "import numpy as np\n",
        "from torchvision import transforms\n",
        "from torch.utils.data import DataLoader"
      ],
      "execution_count": 0,
      "outputs": []
    },
    {
      "cell_type": "code",
      "metadata": {
        "id": "V-sMXIE6heYv",
        "colab_type": "code",
        "colab": {}
      },
      "source": [
        "# Define your CBOW model here\n",
        "class CBOW(torch.nn.Module):\n",
        "  def __init__(self, vocab_size, embed_dim, window_size, hidden_dim):\n",
        "    super(CBOW, self).__init__()\n",
        "    # embedding layer initialized with torch.nn.Embedding\n",
        "    self.embedding = torch.nn.Embedding(vocab_size, embed_dim)\n",
        "    # fc1: a linear transformation connects embedding layer and hidden layer\n",
        "    self.fc1 = torch.nn.Linear(2 * window_size * embed_dim, hidden_dim)\n",
        "    # relu activaton should be applied to the output of fc1\n",
        "    self.relu1 = torch.nn.ReLU()\n",
        "    # fc2: a linear transformation that connects the activation of fc1 to tensor of lenth vocab_size\n",
        "    self.fc2 = torch.nn.Linear(hidden_dim, vocab_size)\n",
        "  \n",
        "  def forward(self, x):\n",
        "    x = self.embedding(x).view(1, -1)\n",
        "    x = self.fc1(x)\n",
        "    x = self.relu1(x)\n",
        "    x = self.fc2(x)\n",
        "    return x"
      ],
      "execution_count": 0,
      "outputs": []
    },
    {
      "cell_type": "markdown",
      "metadata": {
        "colab_type": "text",
        "id": "M1gYhtWBx88h"
      },
      "source": [
        "## Train the CBOW model"
      ]
    },
    {
      "cell_type": "markdown",
      "metadata": {
        "colab_type": "text",
        "id": "LuWSX_ZGnPIG"
      },
      "source": [
        "Now that your model class is written, you must create an instance of the model and train it using the loss function `torch.nn.CrossEntropyLoss` on the output of `fc2` and `y` (the labels).\n",
        "\n",
        "Train your CBOW model for 300 epochs with `embed_dim`= 100, `window_size`=2, and `hidden_dim`=30. \n",
        "- Do not split the data into training and test sets (we will not be evaluating the performance of this model). \n",
        "- Use the SGD optimizer with learning rate = 0.001.\n",
        "- Append the loss at every epoch to a list (return the list if you use a function to fit your model), so that we can plot it later. "
      ]
    },
    {
      "cell_type": "code",
      "metadata": {
        "id": "35ybUlZs14Ud",
        "colab_type": "code",
        "colab": {
          "base_uri": "https://localhost:8080/",
          "height": 1000
        },
        "outputId": "8b1c56c1-3b08-478e-dc7d-b9b6b876319a"
      },
      "source": [
        "# Parameters\n",
        "VOCAB_SIZE = len(vocab)\n",
        "EMBED_DIM = 100\n",
        "WINDOW_SIZE = 2\n",
        "HIDDEN_DIM = 30\n",
        "N_EPOCHS = 300\n",
        "\n",
        "# Train your CBOW model here\n",
        "# get the train data\n",
        "review_list = []\n",
        "for i in cleaned_text:\n",
        "  review_list.extend(make_cbow_data(i, WINDOW_SIZE))\n",
        "review_list = list(filter(lambda x: x !=[], review_list))\n",
        "\n",
        "# print(review_list)\n",
        "model = CBOW(VOCAB_SIZE, EMBED_DIM, WINDOW_SIZE, HIDDEN_DIM)\n",
        "model = model.cuda()\n",
        "# set the optimizer \n",
        "optimizer = torch.optim.SGD(model.parameters(), lr = 0.001)\n",
        "# loss function: use cross entry loss\n",
        "loss_fn = torch.nn.CrossEntropyLoss()\n",
        "loss_list = []\n",
        "# train CBOW model\n",
        "model.train() # put model in training mode\n",
        "for epoch in range(N_EPOCHS):\n",
        "  running_loss = 0.0\n",
        "  for x, y in review_list:\n",
        "    x = x.cuda()\n",
        "    y = y.cuda()\n",
        "    optimizer.zero_grad()\n",
        "    pred = model(x)\n",
        "    loss = loss_fn(pred, y)\n",
        "    loss.backward()\n",
        "    running_loss += loss.item()\n",
        "    optimizer.step()\n",
        "  if epoch%5 == 0 or epoch == 299: \n",
        "    print(f\"Epoch {epoch} loss = {running_loss/len(review_list)}\")\n",
        "  loss_list.append(running_loss / len(review_list))"
      ],
      "execution_count": 262,
      "outputs": [
        {
          "output_type": "stream",
          "text": [
            "Epoch 0 loss = 6.220800905666946\n",
            "Epoch 5 loss = 5.770757470407245\n",
            "Epoch 10 loss = 5.1379095190170085\n",
            "Epoch 15 loss = 4.503150110258922\n",
            "Epoch 20 loss = 3.9800749572566856\n",
            "Epoch 25 loss = 3.5118585819652495\n",
            "Epoch 30 loss = 3.0840301542012867\n",
            "Epoch 35 loss = 2.6748533160335772\n",
            "Epoch 40 loss = 2.281948311722119\n",
            "Epoch 45 loss = 1.9110925845901467\n",
            "Epoch 50 loss = 1.5699156191515533\n",
            "Epoch 55 loss = 1.2652156002277073\n",
            "Epoch 60 loss = 1.0027008549065328\n",
            "Epoch 65 loss = 0.7838657518729767\n",
            "Epoch 70 loss = 0.6082176131266895\n",
            "Epoch 75 loss = 0.4716165820344242\n",
            "Epoch 80 loss = 0.3680669471377958\n",
            "Epoch 85 loss = 0.2906250592326693\n",
            "Epoch 90 loss = 0.23341106624518249\n",
            "Epoch 95 loss = 0.19114343195400832\n",
            "Epoch 100 loss = 0.15970211539190557\n",
            "Epoch 105 loss = 0.13596294822522825\n",
            "Epoch 110 loss = 0.11771060240746961\n",
            "Epoch 115 loss = 0.10335753470614974\n",
            "Epoch 120 loss = 0.0918757309708163\n",
            "Epoch 125 loss = 0.08251713076813968\n",
            "Epoch 130 loss = 0.07476554972633033\n",
            "Epoch 135 loss = 0.06824655376961468\n",
            "Epoch 140 loss = 0.0627098834532331\n",
            "Epoch 145 loss = 0.05794681305339751\n",
            "Epoch 150 loss = 0.05381372601989474\n",
            "Epoch 155 loss = 0.05019237665683696\n",
            "Epoch 160 loss = 0.04700013822467685\n",
            "Epoch 165 loss = 0.04416591026453526\n",
            "Epoch 170 loss = 0.04163123948435904\n",
            "Epoch 175 loss = 0.039357817367848456\n",
            "Epoch 180 loss = 0.03730417962945765\n",
            "Epoch 185 loss = 0.03544238913820899\n",
            "Epoch 190 loss = 0.033747606433341265\n",
            "Epoch 195 loss = 0.03219721682181507\n",
            "Epoch 200 loss = 0.0307748774716971\n",
            "Epoch 205 loss = 0.02946631302628085\n",
            "Epoch 210 loss = 0.0282581607087406\n",
            "Epoch 215 loss = 0.02713926550537835\n",
            "Epoch 220 loss = 0.026100454854752653\n",
            "Epoch 225 loss = 0.025134137622668876\n",
            "Epoch 230 loss = 0.02423294798580357\n",
            "Epoch 235 loss = 0.023390383103981414\n",
            "Epoch 240 loss = 0.022602084132927133\n",
            "Epoch 245 loss = 0.021861193970089326\n",
            "Epoch 250 loss = 0.021165307882459166\n",
            "Epoch 255 loss = 0.020510105286097986\n",
            "Epoch 260 loss = 0.019892152670056822\n",
            "Epoch 265 loss = 0.019307869150238265\n",
            "Epoch 270 loss = 0.01875537146785107\n",
            "Epoch 275 loss = 0.018231904878658844\n",
            "Epoch 280 loss = 0.017735128416880457\n",
            "Epoch 285 loss = 0.017263588189724472\n",
            "Epoch 290 loss = 0.016814879464182066\n",
            "Epoch 295 loss = 0.01638781191866961\n",
            "Epoch 299 loss = 0.016060408298894872\n"
          ],
          "name": "stdout"
        }
      ]
    },
    {
      "cell_type": "markdown",
      "metadata": {
        "colab_type": "text",
        "id": "lE_aC7oJx2xC"
      },
      "source": [
        "## Plot losses by epochs (x-axis: epoch, y-axis: loss)"
      ]
    },
    {
      "cell_type": "code",
      "metadata": {
        "id": "xdAEHlvX14Ur",
        "colab_type": "code",
        "colab": {
          "base_uri": "https://localhost:8080/",
          "height": 295
        },
        "outputId": "e9e25dca-2d7a-4fb7-f213-d8b1a83b9aaf"
      },
      "source": [
        "import matplotlib.pyplot as plt\n",
        "plt.plot(loss_list)\n",
        "plt.title(\"model loss\")\n",
        "plt.ylabel(\"Loss\")\n",
        "plt.xlabel(\"Epochs\")\n",
        "plt.show()"
      ],
      "execution_count": 263,
      "outputs": [
        {
          "output_type": "display_data",
          "data": {
            "image/png": "[encoded data removed]",
            "text/plain": [
              "<Figure size 432x288 with 1 Axes>"
            ]
          },
          "metadata": {
            "tags": []
          }
        }
      ]
    },
    {
      "cell_type": "markdown",
      "metadata": {
        "colab_type": "text",
        "id": "GWj-u7YJFxF7"
      },
      "source": [
        "## Print five most similar words with the word \"delicious\""
      ]
    },
    {
      "cell_type": "markdown",
      "metadata": {
        "colab_type": "text",
        "id": "vvxTFjD7GCDc"
      },
      "source": [
        "The whole point of traiing an embedding model is to get an embedding vector for each word. The idea is that the vector somehow captures the meaning of the word. This is useful because data scientists often face scenarios where they must derive meaning from unstructured text data.\n",
        "\n",
        "Once your model has been trained, you can access the embedding vectors through `model.embedding.weight.data`. You can convert these vectors to a numpy matrix or numpy arrays if needed.\n",
        "\n",
        "Find the five most similar words with the word \"delicious\" by calculating cosine similarity between the embedding vector of \"delicious\" and the embedding vectors of all other words in the vocabulary. \n",
        "\n",
        "Hint: cosine similarity is a common metric so you should be able to find one that you can use in an existing library. "
      ]
    },
    {
      "cell_type": "code",
      "metadata": {
        "id": "rS5bfhBW14U_",
        "colab_type": "code",
        "colab": {}
      },
      "source": [
        "# Insert your code here\n",
        "from sklearn.metrics.pairwise import cosine_similarity\n",
        "dd = model.embedding.weight.data\n",
        "dd = dd.cpu().detach().numpy()\n",
        "dd_p = pd.DataFrame(dd)\n",
        "result = pd.DataFrame(cosine_similarity(dd_p, dd_p))\n",
        "delicious_index = word_to_index[\"delicious\"]\n",
        "top_6 = result[delicious_index].sort_values(ascending = False).iloc[0:6].index\n",
        "# list(word_to_index.keys())[371]\n",
        "# find the "
      ],
      "execution_count": 0,
      "outputs": []
    },
    {
      "cell_type": "code",
      "metadata": {
        "id": "0bnhuEbomCnw",
        "colab_type": "code",
        "colab": {
          "base_uri": "https://localhost:8080/",
          "height": 34
        },
        "outputId": "56a7f27a-8266-4e64-cfc8-9db034292660"
      },
      "source": [
        "list(list(word_to_index.keys())[i] for i in top_6)"
      ],
      "execution_count": 265,
      "outputs": [
        {
          "output_type": "execute_result",
          "data": {
            "text/plain": [
              "['delicious', 'delight', 'lot', 'sever', 'after', 'wave']"
            ]
          },
          "metadata": {
            "tags": []
          },
          "execution_count": 265
        }
      ]
    },
    {
      "cell_type": "markdown",
      "metadata": {
        "id": "Koa4azpTodz9",
        "colab_type": "text"
      },
      "source": [
        "The five most similar words to `delicious` are `delight`, `lot`, `server`, `after`, `wave`"
      ]
    },
    {
      "cell_type": "markdown",
      "metadata": {
        "id": "UJrmuZEE5ETn",
        "colab_type": "text"
      },
      "source": [
        "While the model learns embedding vectors (that best predict the focal word from its contexts), the vectors that it learns don't seem to truly capture the meaning of words. However, this is mainly due to the small size of our training data. Google trained a word2vec model based on large-scale data (about 100 billion words), and this model captures similarity between words well. You can find the pretrained model at https://code.google.com/archive/p/word2vec/."
      ]
    }
  ]
}